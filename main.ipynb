{
 "cells": [
  {
   "cell_type": "code",
   "execution_count": 4,
   "metadata": {
    "executionInfo": {
     "elapsed": 3515,
     "status": "ok",
     "timestamp": 1735467760030,
     "user": {
      "displayName": "Minh Cao",
      "userId": "13683727347700676697"
     },
     "user_tz": -420
    },
    "id": "9R5N6UPN1ctq"
   },
   "outputs": [],
   "source": [
    "import os, re, cv2\n",
    "import matplotlib.pyplot as plt\n",
    "import numpy as np\n",
    "from collections import defaultdict\n",
    "import tensorflow as tf\n",
    "from tensorflow import keras\n",
    "\n",
    "\n",
    "def sort_string(filename):\n",
    "    # list.sort(key=lambda x: (len(str(sort_string(x))), sort_string(x)))\n",
    "    match = re.search(r'\\d+', filename)\n",
    "    if match:\n",
    "        number_str = match.group(0)\n",
    "        return int(number_str)\n",
    "    return 0\n"
   ]
  },
  {
   "cell_type": "code",
   "execution_count": null,
   "metadata": {
    "colab": {
     "base_uri": "https://localhost:8080/"
    },
    "executionInfo": {
     "elapsed": 2121,
     "status": "ok",
     "timestamp": 1735467773172,
     "user": {
      "displayName": "Minh Cao",
      "userId": "13683727347700676697"
     },
     "user_tz": -420
    },
    "id": "_iEWGqi81i-q",
    "outputId": "b6413e81-ac30-42b1-a000-28ffcb3429e7"
   },
   "outputs": [],
   "source": [
    "root_path = \"Dataset\\Dataset_BUSI_with_GT\"\n",
    "\n",
    "deleted_files = []\n",
    "\n",
    "for sub in os.listdir(root_path):\n",
    "    subfolder_path = os.path.join(root_path, sub)\n",
    "    mask_files = [filename for filename in os.listdir(subfolder_path) if re.match(r'^(.*)_mask(_\\d+)?\\.png$', filename)]\n",
    "    base_names = defaultdict(list)\n",
    "\n",
    "    for filename in mask_files:\n",
    "        match = re.match(r'^(.*)_mask(_\\d+)?\\.png$', filename)\n",
    "        if match:\n",
    "            base_name = match.group(1)\n",
    "            base_names[base_name].append(filename)\n",
    "    for base_name, files in base_names.items():\n",
    "        combined_mask = None\n",
    "        for filename in files:\n",
    "            file_path = os.path.join(subfolder_path, filename)\n",
    "            mask = cv2.imread(file_path, cv2.IMREAD_GRAYSCALE)\n",
    "\n",
    "            if combined_mask is None:\n",
    "                combined_mask = mask\n",
    "            else:\n",
    "                # Sử dụng phép OR để gộp mask \n",
    "                combined_mask = cv2.bitwise_or(combined_mask, mask)\n",
    "        output_filename = base_name + \"_mask.png\"\n",
    "        output_path = os.path.join(subfolder_path, output_filename)\n",
    "        cv2.imwrite(output_path, combined_mask)\n",
    "        for filename in files:\n",
    "            if filename != output_filename:\n",
    "                file_to_remove = os.path.join(subfolder_path, filename)\n",
    "                os.remove(file_to_remove)\n",
    "                deleted_files.append(filename)\n",
    "    print(\"Các tệp đã bị xóa:\")\n",
    "    for deleted_file in deleted_files:\n",
    "        print(deleted_file)\n",
    "    print(f\"Đã gộp thành công các nhãn bị trùng\")"
   ]
  },
  {
   "cell_type": "code",
   "execution_count": 6,
   "metadata": {
    "colab": {
     "base_uri": "https://localhost:8080/"
    },
    "executionInfo": {
     "elapsed": 14393,
     "status": "ok",
     "timestamp": 1735467797092,
     "user": {
      "displayName": "Minh Cao",
      "userId": "13683727347700676697"
     },
     "user_tz": -420
    },
    "id": "GpMy2_sC1kSD",
    "outputId": "7a4980fc-3577-4dec-c45a-d2333a3c5098"
   },
   "outputs": [
    {
     "name": "stdout",
     "output_type": "stream",
     "text": [
      "Tổng X_data 780\n",
      "Tổng Y_data 780\n",
      "Tổng Y_cls 780\n"
     ]
    }
   ],
   "source": [
    "\n",
    "IMG_WIDTH, IMG_HEIGHT, IMG_CHANNELS = 256, 256, 1\n",
    "\n",
    "X_data, Y_data, Y_cls = [], [], []\n",
    "\n",
    "for sub in os.listdir(root_path):\n",
    "    subfolder_path = os.path.join(root_path, sub)\n",
    "    subsubfolder_path = os.listdir(subfolder_path)\n",
    "    subsubfolder_path.sort(key=lambda x: (len(str(sort_string(x))), sort_string(x)))\n",
    "\n",
    "    for name in subsubfolder_path:\n",
    "        image_path = os.path.join(subfolder_path, name)\n",
    "        img_data = cv2.imread(image_path, 0)\n",
    "        img_data = cv2.resize(img_data, (IMG_WIDTH, IMG_HEIGHT))\n",
    "        if \"mask\" in name:\n",
    "            Y_data.append(img_data)\n",
    "            Y_cls.append(sub)\n",
    "        else:\n",
    "            X_data.append(img_data)\n",
    "\n",
    "print(f\"Tổng X_data {len(X_data)}\")\n",
    "print(f\"Tổng Y_data {len(Y_data)}\")\n",
    "print(f\"Tổng Y_cls {len(Y_cls)}\")\n"
   ]
  },
  {
   "cell_type": "code",
   "execution_count": null,
   "metadata": {
    "id": "AJFA2Sg01ljE"
   },
   "outputs": [],
   "source": [
    "import random\n",
    "\n",
    "def visual_image_data(number_img= 3):\n",
    "    random_indices = random.sample(range(len(X_data)), number_img)\n",
    "    for i, idx in enumerate(random_indices, 1):\n",
    "        plt.figure(figsize=(10, 5))\n",
    "\n",
    "        plt.subplot(131)\n",
    "        plt.imshow(X_data[idx], cmap='gray')\n",
    "        plt.title(f'X_train - Thứ tự: {idx}')\n",
    "\n",
    "        plt.subplot(132)\n",
    "        plt.imshow(Y_data[idx], cmap='gray')\n",
    "        plt.title(f'Y_train - Thứ tự: {idx}')\n",
    "\n",
    "        plt.subplot(133)\n",
    "        plt.imshow(X_data[idx], cmap='gray')\n",
    "        plt.imshow(Y_data[idx], alpha=0.5)\n",
    "        plt.title(f\"Label {Y_cls[idx]}\")\n",
    "\n",
    "        plt.show()\n",
    "\n",
    "# visual_image_data()"
   ]
  },
  {
   "cell_type": "code",
   "execution_count": 17,
   "metadata": {
    "colab": {
     "base_uri": "https://localhost:8080/"
    },
    "executionInfo": {
     "elapsed": 492,
     "status": "ok",
     "timestamp": 1735468051059,
     "user": {
      "displayName": "Minh Cao",
      "userId": "13683727347700676697"
     },
     "user_tz": -420
    },
    "id": "lBtI_-NL3It5",
    "outputId": "7661f72c-7d2e-45ef-fcdb-75de94e9c5fe"
   },
   "outputs": [
    {
     "name": "stdout",
     "output_type": "stream",
     "text": [
      " \n",
      " Đã Chuyển đổi X_train thành một mảng NumPy sau đó tạo thành một tensor 4 chiều \n",
      "Shape Y_cls_one_hot (780, 3)\n",
      "Shape X_data (780, 256, 256, 1)\n",
      "Shape Y_data (780, 256, 256, 1)\n"
     ]
    }
   ],
   "source": [
    "from keras.utils import to_categorical\n",
    "\n",
    "\n",
    "X_data=np.array(X_data)\n",
    "X_data=np.expand_dims(X_data,axis=-1)\n",
    "\n",
    "Y_data=np.array(Y_data)\n",
    "Y_data=np.expand_dims(Y_data,axis=-1)\n",
    "\n",
    "\n",
    "# Y_cls (one-hot encoding)\n",
    "num_classes = 3  # Số lượng lớp\n",
    "mapping_dict = {'malignant': 0, 'normal': 1, 'benign': 2}\n",
    "Y_cls_mapped = list(map(mapping_dict.get, Y_cls))\n",
    "\n",
    "\n",
    "\n",
    "Y_cls_one_hot = to_categorical(Y_cls_mapped, num_classes=num_classes)\n",
    "print(f\"Shape Y_cls_one_hot {Y_cls_one_hot.shape}\")\n",
    "print(f\"Shape X_data {X_data.shape}\")\n",
    "print(f\"Shape Y_data {Y_data.shape}\")"
   ]
  },
  {
   "cell_type": "code",
   "execution_count": 18,
   "metadata": {
    "colab": {
     "base_uri": "https://localhost:8080/"
    },
    "executionInfo": {
     "elapsed": 2129,
     "status": "ok",
     "timestamp": 1735468079193,
     "user": {
      "displayName": "Minh Cao",
      "userId": "13683727347700676697"
     },
     "user_tz": -420
    },
    "id": "gtpPQNMG6cv_",
    "outputId": "87e46d04-8c4c-4cdd-cdf8-19f488eeb645"
   },
   "outputs": [
    {
     "name": "stdout",
     "output_type": "stream",
     "text": [
      " \n",
      " Đã load xong vào X_train 390 tấm ảnh và Y_train 390 tấm ảnh\n",
      " \n",
      " Đã load xong vào X_test 390 tấm ảnh và Y_test 390 tấm ảnh\n",
      " \n",
      " => Y_cls dùng để phân lớp Đã load xong vào Y_cls_train 390 tấm ảnh và Y_cls_test 390 tấm ảnh \n",
      " \n",
      "Shape X_train (390, 256, 256, 1)\n",
      "Shape X_test (390, 256, 256, 1)\n",
      "Shape Y_train (390, 256, 256, 1)\n",
      "Shape Y_test (390, 256, 256, 1)\n",
      "Shape Y_cls_train (390, 3)\n",
      "Shape Y_cls_test (390, 3)\n"
     ]
    }
   ],
   "source": [
    "from sklearn.model_selection import train_test_split\n",
    "\n",
    "X_train, X_test, Y_train, Y_test, Y_cls_train, Y_cls_test = train_test_split(X_data,\n",
    "                                                                             Y_data,\n",
    "                                                                             Y_cls_one_hot,\n",
    "                                                                             test_size=0.5,\n",
    "                                                                             random_state=42)\n",
    "\n",
    "print(f' \\n Đã load xong vào X_train {len(X_train)} tấm ảnh và Y_train {len(Y_train)} tấm ảnh')\n",
    "print(f' \\n Đã load xong vào X_test {len(X_test)} tấm ảnh và Y_test {len(Y_test)} tấm ảnh')\n",
    "\n",
    "print(f' \\n => Y_cls dùng để phân lớp Đã load xong vào Y_cls_train {len(Y_cls_train)} tấm ảnh và Y_cls_test {len(Y_cls_test)} tấm ảnh \\n ' )\n",
    "\n",
    "print(f\"Shape X_train {X_train.shape}\")\n",
    "print(f\"Shape X_test {X_test.shape}\")\n",
    "\n",
    "print(f\"Shape Y_train {Y_train.shape}\")\n",
    "print(f\"Shape Y_test {Y_test.shape}\")\n",
    "\n",
    "print(f\"Shape Y_cls_train {Y_cls_train.shape}\")\n",
    "print(f\"Shape Y_cls_test {Y_cls_test.shape}\")\n"
   ]
  },
  {
   "cell_type": "code",
   "execution_count": 19,
   "metadata": {
    "colab": {
     "base_uri": "https://localhost:8080/",
     "height": 335
    },
    "executionInfo": {
     "elapsed": 883,
     "status": "ok",
     "timestamp": 1735468083279,
     "user": {
      "displayName": "Minh Cao",
      "userId": "13683727347700676697"
     },
     "user_tz": -420
    },
    "id": "pDqOGDcehmb4",
    "outputId": "b158cdd4-58a3-4332-8c47-7d287348b9dd"
   },
   "outputs": [
    {
     "data": {
      "image/png": "[encoded data removed]",
      "text/plain": [
       "<Figure size 600x300 with 1 Axes>"
      ]
     },
     "metadata": {},
     "output_type": "display_data"
    }
   ],
   "source": [
    "def plot_label_counts_multi(*args, names=None):\n",
    "    plt.figure(figsize=(6, 3))\n",
    "\n",
    "    for i, Y_name in enumerate(args):\n",
    "        unique_values, counts = np.unique(Y_name, return_counts=True, axis=0)\n",
    "\n",
    "        x_values = np.arange(len(unique_values)) + i * 0.2\n",
    "        bars = plt.bar(x_values, counts, align='center', width=0.2, label=names[i] if names else f'Y_{i + 1}')\n",
    "        for bar, count in zip(bars, counts):\n",
    "            plt.text(bar.get_x() + bar.get_width() / 2 - 0.1, bar.get_height() + 0.1, str(int(count)), fontsize=9)\n",
    "\n",
    "    plt.xlabel('Giá trị')\n",
    "    plt.ylabel('Số lần xuất hiện')\n",
    "    plt.title('Số lần xuất hiện của các giá trị trong Y')\n",
    "    plt.legend()\n",
    "    plt.show()\n",
    "\n",
    "plot_label_counts_multi(Y_cls_one_hot, Y_cls_train, Y_cls_test, names=[\"Y_total\" ,\"Y_cls_train\", \"Y_cls_test\"])"
   ]
  },
  {
   "cell_type": "code",
   "execution_count": null,
   "metadata": {
    "colab": {
     "base_uri": "https://localhost:8080/"
    },
    "executionInfo": {
     "elapsed": 10428,
     "status": "ok",
     "timestamp": 1735468254690,
     "user": {
      "displayName": "Minh Cao",
      "userId": "13683727347700676697"
     },
     "user_tz": -420
    },
    "id": "LGPRkXtuf4bT",
    "outputId": "e65e6bd2-41d7-4058-e648-ced4c69cc2b3"
   },
   "outputs": [],
   "source": [
    "\n",
    "from tensorflow.keras.layers import Input, Conv2D, MaxPooling2D, Dropout, concatenate, Conv2DTranspose, Flatten, Dense, BatchNormalization, Activation\n",
    "from tensorflow.keras.models import Model, Sequential\n",
    "from tensorflow.keras.applications.vgg19 import VGG19\n",
    "\n",
    "\n",
    "def Conv2dBlock(inputTensor, numFilters, kernelSize=3, doBatchNorm=True):\n",
    "    x = Conv2D(filters=numFilters, kernel_size=(kernelSize, kernelSize),\n",
    "                               kernel_initializer='he_normal', padding='same')(inputTensor)\n",
    "    if doBatchNorm:\n",
    "        x = BatchNormalization()(x)\n",
    "    x = Activation('relu')(x)\n",
    "\n",
    "    x = Conv2D(filters=numFilters, kernel_size=(kernelSize, kernelSize),\n",
    "                               kernel_initializer='he_normal', padding='same')(x)\n",
    "    if doBatchNorm:\n",
    "        x = BatchNormalization()(x)\n",
    "    x = Activation('relu')(x)\n",
    "\n",
    "    return x\n",
    "\n",
    "pretrained_model = VGG19(include_top=False,\n",
    "                                             input_shape=(256, 256, 3),\n",
    "                                             pooling='max',\n",
    "                                             classes=3,\n",
    "                                             weights='imagenet')\n",
    "pretrained_model.trainable = False\n",
    "\n",
    "def Unet_base(inputImage, numFilters=16, dropout=0.1, doBatchNorm=True):\n",
    "    c1 = Conv2dBlock(inputImage, numFilters * 1, kernelSize=3, doBatchNorm=doBatchNorm)\n",
    "    p1 = MaxPooling2D((2, 2))(c1)\n",
    "    p1 = Dropout(dropout)(p1)\n",
    "\n",
    "    c2 = Conv2dBlock(p1, numFilters * 2, kernelSize=3, doBatchNorm=doBatchNorm)\n",
    "    p2 = MaxPooling2D((2, 2))(c2)\n",
    "    p2 = Dropout(dropout)(p2)\n",
    "\n",
    "    c3 = Conv2dBlock(p2, numFilters * 4, kernelSize=3, doBatchNorm=doBatchNorm)\n",
    "    p3 = MaxPooling2D((2, 2))(c3)\n",
    "    p3 = Dropout(dropout)(p3)\n",
    "\n",
    "    c4 = Conv2dBlock(p3, numFilters * 8, kernelSize=3, doBatchNorm=doBatchNorm)\n",
    "    p4 = MaxPooling2D((2, 2))(c4)\n",
    "    p4 = Dropout(dropout)(p4)\n",
    "\n",
    "    c5 = Conv2dBlock(p4, numFilters * 16, kernelSize=3, doBatchNorm=doBatchNorm)\n",
    "\n",
    "\n",
    "    u6 = Conv2DTranspose(numFilters * 8, (3, 3), strides=(2, 2), padding='same')(c5)\n",
    "    u6 = concatenate([u6, c4])\n",
    "    u6 = Dropout(dropout)(u6)\n",
    "    c6 = Conv2dBlock(u6, numFilters * 8, kernelSize=3, doBatchNorm=doBatchNorm)\n",
    "\n",
    "    u7 = Conv2DTranspose(numFilters * 4, (3, 3), strides=(2, 2), padding='same')(c6)\n",
    "\n",
    "    u7 = concatenate([u7, c3])\n",
    "    u7 = Dropout(dropout)(u7)\n",
    "    c7 = Conv2dBlock(u7, numFilters * 4, kernelSize=3, doBatchNorm=doBatchNorm)\n",
    "\n",
    "    u8 = Conv2DTranspose(numFilters * 2, (3, 3), strides=(2, 2), padding='same')(c7)\n",
    "    u8 = concatenate([u8, c2])\n",
    "    u8 = Dropout(dropout)(u8)\n",
    "    c8 = Conv2dBlock(u8, numFilters * 2, kernelSize=3, doBatchNorm=doBatchNorm)\n",
    "\n",
    "    u9 = Conv2DTranspose(numFilters * 1, (3, 3), strides=(2, 2), padding='same')(c8)\n",
    "    u9 = concatenate([u9, c1])\n",
    "    u9 = Dropout(dropout)(u9)\n",
    "    c9 = Conv2dBlock(u9, numFilters * 1, kernelSize=3, doBatchNorm=doBatchNorm)\n",
    "\n",
    "    output = Conv2D(1, (1, 1), activation='sigmoid')(c9)\n",
    "\n",
    "    return Model(inputs=[inputImage], outputs=[output])\n",
    "\n",
    "\n",
    "\n",
    "def VGG19_cls(inputImage, dropout= 0.3):\n",
    "    cls2 = Conv2D(3, (1, 1), activation='relu', padding='same')(inputImage)\n",
    "    vgg19 = pretrained_model(cls2)\n",
    "    flatten = Flatten()(vgg19)\n",
    "    dense1 = Dense(1024, activation='relu')(flatten)\n",
    "    dropout1 = Dropout(dropout)(dense1)\n",
    "\n",
    "    dense2 = Dense(512, activation='relu')(dropout1)\n",
    "    dropout2 = Dropout(dropout)(dense2)\n",
    "\n",
    "    dense3 = Dense(256, activation='relu')(dropout2)\n",
    "    dropout3 = Dropout(dropout)(dense3)\n",
    "\n",
    "    dense4 = Dense(128, activation='relu')(dropout3)\n",
    "    dropout4 = Dropout(dropout)(dense4)\n",
    "\n",
    "    dense5 = Dense(64, activation='relu')(dropout4)\n",
    "    dropout5 = Dropout(dropout)(dense5)\n",
    "\n",
    "    dense6 = Dense(32, activation='relu')(dropout5)\n",
    "    dropout6 = Dropout(dropout)(dense6)\n",
    "\n",
    "    dense7 = Dense(16, activation='relu')(dropout6)\n",
    "\n",
    "    cls_out = Dense(3, activation='softmax')(dense7)\n",
    "\n",
    "    return Model(inputs=[inputImage], outputs=[cls_out])\n",
    "\n",
    "\n",
    "VGG_19 = VGG19_cls(Input((256, 256, 1)), dropout= 0.3)\n",
    "Unet = Unet_base(Input((256, 256, 1)), dropout= 0.3)\n",
    "\n",
    "\n",
    "\n",
    "\n"
   ]
  },
  {
   "cell_type": "code",
   "execution_count": 21,
   "metadata": {
    "executionInfo": {
     "elapsed": 510,
     "status": "ok",
     "timestamp": 1735468281292,
     "user": {
      "displayName": "Minh Cao",
      "userId": "13683727347700676697"
     },
     "user_tz": -420
    },
    "id": "8Ak4coImsJHV"
   },
   "outputs": [],
   "source": [
    "from tensorflow.keras.callbacks import EarlyStopping ,ReduceLROnPlateau \n",
    "\n",
    "\n",
    "UGG_19 = Sequential()\n",
    "UGG_19.add(Unet)\n",
    "UGG_19.add(VGG_19)\n",
    "# UGG_19.summary()\n"
   ]
  },
  {
   "cell_type": "code",
   "execution_count": 23,
   "metadata": {
    "executionInfo": {
     "elapsed": 1028,
     "status": "ok",
     "timestamp": 1735468312484,
     "user": {
      "displayName": "Minh Cao",
      "userId": "13683727347700676697"
     },
     "user_tz": -420
    },
    "id": "EgMago-O8a93"
   },
   "outputs": [],
   "source": [
    "UGG_19.compile('adam', loss=\"categorical_crossentropy\" ,metrics=['accuracy'])\n",
    "Reduce_LR_cls=ReduceLROnPlateau(monitor='val_accuracy',  patience=20, verbose=1,factor=0.8,min_lr=0.0001)\n",
    "early_stopping_cls = EarlyStopping(monitor='val_accuracy', patience=100, verbose=1, restore_best_weights=True)\n",
    "callbacks = [Reduce_LR_cls, early_stopping_cls]\n"
   ]
  },
  {
   "cell_type": "code",
   "execution_count": null,
   "metadata": {
    "colab": {
     "base_uri": "https://localhost:8080/"
    },
    "executionInfo": {
     "elapsed": 3609068,
     "status": "ok",
     "timestamp": 1735472032963,
     "user": {
      "displayName": "Minh Cao",
      "userId": "13683727347700676697"
     },
     "user_tz": -420
    },
    "id": "xNkovIcDp-jv",
    "outputId": "722d0ac9-b236-41b2-ad0f-7ad8ef88cfed"
   },
   "outputs": [],
   "source": [
    "import time\n",
    "\n",
    "start_time = time.time()\n",
    "\n",
    "UGG_19_his = UGG_19.fit(X_train,\n",
    "                        Y_cls_train,\n",
    "                        validation_split=0.2,\n",
    "                        shuffle=True,\n",
    "                        callbacks=callbacks,\n",
    "                        batch_size = 8,\n",
    "                        epochs=250)\n",
    "\n",
    "end_time = time.time()\n",
    "training_time = end_time - start_time\n",
    "print(f'Thời gian đào tạo mô hình: {training_time} giây')\n",
    "\n",
    "\n",
    "UGG_19.save(\"Save\\UGG_19train_7layer.keras\")\n",
    "print(\"đã save model\")"
   ]
  },
  {
   "cell_type": "code",
   "execution_count": null,
   "metadata": {},
   "outputs": [],
   "source": [
    "UGG_19.evaluate(X_train, Y_cls_train)"
   ]
  },
  {
   "cell_type": "code",
   "execution_count": 26,
   "metadata": {
    "colab": {
     "base_uri": "https://localhost:8080/"
    },
    "executionInfo": {
     "elapsed": 539,
     "status": "ok",
     "timestamp": 1735472049372,
     "user": {
      "displayName": "Minh Cao",
      "userId": "13683727347700676697"
     },
     "user_tz": -420
    },
    "id": "D2s1AIcJMKSt",
    "outputId": "fc2592ba-d923-4c9c-8110-66cfd8fdd6a9"
   },
   "outputs": [
    {
     "name": "stdout",
     "output_type": "stream",
     "text": [
      "Đã lưu lịch sử huấn luyện\n"
     ]
    }
   ],
   "source": [
    "\n",
    "np.savez('Save\\UGG_19_history.npz',\n",
    "         loss=UGG_19_his.history['loss'],\n",
    "         val_loss=UGG_19_his.history['val_loss'],\n",
    "         accuracy=UGG_19_his.history.get('accuracy', []),\n",
    "         val_accuracy=UGG_19_his.history.get('val_accuracy', []))\n",
    "print(\"Đã lưu lịch sử huấn luyện\")"
   ]
  },
  {
   "cell_type": "code",
   "execution_count": null,
   "metadata": {
    "id": "Xze1ORATyRfq"
   },
   "outputs": [],
   "source": [
    "from tensorflow.keras.models import load_model\n",
    "\n",
    "model_path = \"Save\\UGG_19train_7layer.keras\"\n",
    "UGG_19 = load_model(model_path)\n",
    "UGG_19.summary()"
   ]
  },
  {
   "cell_type": "code",
   "execution_count": null,
   "metadata": {
    "colab": {
     "base_uri": "https://localhost:8080/",
     "height": 655
    },
    "executionInfo": {
     "elapsed": 4200,
     "status": "ok",
     "timestamp": 1735472202511,
     "user": {
      "displayName": "Minh Cao",
      "userId": "13683727347700676697"
     },
     "user_tz": -420
    },
    "id": "afBXfKCs377N",
    "outputId": "57d2fe74-33f4-4b90-e2db-19c5a533bf98"
   },
   "outputs": [],
   "source": [
    "from sklearn.metrics import confusion_matrix, accuracy_score, recall_score, f1_score\n",
    "import seaborn as sns\n",
    "\n",
    "\n",
    "y_pred_VGG=UGG_19.predict(X_test)\n",
    "\n",
    "\n",
    "if len(Y_cls_test.shape) > 1:\n",
    "    y_true_classes = np.argmax(Y_cls_test, axis=1)\n",
    "else:\n",
    "    y_true_classes = Y_cls_test\n",
    "\n",
    "y_pred_classes = np.argmax(y_pred_VGG, axis=1)\n",
    "\n",
    "conf_matrix = confusion_matrix(y_true_classes, y_pred_classes)\n",
    "\n",
    "print(\"Confusion Matrix:\")\n",
    "# print(conf_matrix)\n",
    "class_labels = [\"Benign\", \"Malignant\", \"normal\"]  \n",
    "\n",
    "\n",
    "plt.figure(figsize=(8, 6))\n",
    "sns.heatmap(conf_matrix, annot=True, fmt='d', cmap='Blues',\n",
    "            xticklabels=class_labels, yticklabels=class_labels)\n",
    "plt.title('Confusion Matrix')\n",
    "plt.xlabel('Predicted')\n",
    "plt.ylabel('True')\n",
    "plt.savefig(\"Save\\confusion_matrix_UGG_19train_7layer.png\")\n",
    "plt.show()\n",
    "\n",
    "\n"
   ]
  },
  {
   "cell_type": "code",
   "execution_count": null,
   "metadata": {
    "colab": {
     "base_uri": "https://localhost:8080/"
    },
    "executionInfo": {
     "elapsed": 520,
     "status": "ok",
     "timestamp": 1735472218988,
     "user": {
      "displayName": "Minh Cao",
      "userId": "13683727347700676697"
     },
     "user_tz": -420
    },
    "id": "CJRK7U-apZ_-",
    "outputId": "f31d79dd-a89e-49a5-e38f-e52f7aecb319"
   },
   "outputs": [],
   "source": [
    "accuracy = accuracy_score(y_true_classes, y_pred_classes)\n",
    "f1 = f1_score(y_true_classes, y_pred_classes, average='weighted')\n",
    "recall = recall_score(y_true_classes, y_pred_classes, average='weighted')\n",
    "\n",
    "print(f\"\\n Accuracy: {accuracy}\")\n",
    "print(f\"\\n Recall: {recall}\")\n",
    "print(f\"\\n F1: {f1}\")\n"
   ]
  },
  {
   "cell_type": "code",
   "execution_count": null,
   "metadata": {
    "colab": {
     "base_uri": "https://localhost:8080/",
     "height": 807
    },
    "executionInfo": {
     "elapsed": 2065,
     "status": "ok",
     "timestamp": 1735472271233,
     "user": {
      "displayName": "Minh Cao",
      "userId": "13683727347700676697"
     },
     "user_tz": -420
    },
    "id": "Xhk5gn358E2O",
    "outputId": "253a4425-9ab4-44b6-bf4a-2553f7201ba8"
   },
   "outputs": [],
   "source": [
    "\n",
    "def visual(history, model_name):\n",
    "    plt.figure(figsize=(10, 8))\n",
    "\n",
    "    plt.subplot(2, 1, 1)\n",
    "    plt.plot(history.history['loss'], 'r', label='Training Loss')\n",
    "    plt.plot(history.history['val_loss'], 'r--', label='Validation Loss')\n",
    "    plt.title(f'Loss - {model_name}')\n",
    "    plt.legend()\n",
    "\n",
    "    if 'accuracy' in history.history and 'val_accuracy' in history.history:\n",
    "        plt.subplot(2, 1, 2)\n",
    "        plt.plot(history.history['accuracy'], 'b', label='Training Accuracy')\n",
    "        plt.plot(history.history['val_accuracy'], 'b--', label='Validation Accuracy')\n",
    "        plt.title(f'Accuracy - {model_name}')\n",
    "        plt.savefig(\"Save\\AccuracyUGG_19train_7layer.png\")\n",
    "        plt.legend()\n",
    "    else:\n",
    "        plt.subplot(2, 1, 2)\n",
    "        plt.axis('off') \n",
    "        plt.text(0.5, 0.5, 'No accuracy data available',\n",
    "                 horizontalalignment='center',\n",
    "                 verticalalignment='center',\n",
    "                 transform=plt.gca().transAxes)\n",
    "\n",
    "    plt.tight_layout()\n",
    "    plt.show()\n",
    "\n",
    "\n",
    "visual(UGG_19_his, \"UGG_19\")\n"
   ]
  }
 ],
 "metadata": {
  "accelerator": "GPU",
  "colab": {
   "gpuType": "T4",
   "provenance": []
  },
  "kernelspec": {
   "display_name": "py310",
   "language": "python",
   "name": "python3"
  },
  "language_info": {
   "codemirror_mode": {
    "name": "ipython",
    "version": 3
   },
   "file_extension": ".py",
   "mimetype": "text/x-python",
   "name": "python",
   "nbconvert_exporter": "python",
   "pygments_lexer": "ipython3",
   "version": "3.10.15"
  }
 },
 "nbformat": 4,
 "nbformat_minor": 0
}
